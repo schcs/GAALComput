{
 "cells": [
  {
   "cell_type": "markdown",
   "id": "bf92edd2",
   "metadata": {},
   "source": [
    "## Como definir matrizes\n",
    "\n",
    "Vamos usar a linguagem [Python](https://www.python.org/) para resolver\n",
    "alguns problemas com matrizes.\n",
    "\n",
    "Sejam\\\n",
    "$$\n",
    "A = \\begin{pmatrix} 1 & -1 & -2 \\\\ 0 & 3 & -1 \\\\ -1 & 0 & -2\n",
    "\\end{pmatrix},\\quad\n",
    "B = \\begin{pmatrix} 2 & 2 \\\\ 0 & -2 \\\\ -2 & 2 \\end{pmatrix}\n",
    "$$\n",
    "e\n",
    "$$\n",
    "b=\\begin{pmatrix} 2 \\\\ -3 \\\\ 4 \\end{pmatrix}\n",
    "$$\n",
    "Estas matrizes podemos definir em Python pelas seguintes instruções."
   ]
  },
  {
   "cell_type": "code",
   "execution_count": 3,
   "id": "a36221b3",
   "metadata": {},
   "outputs": [],
   "source": [
    "from sympy import Matrix\n",
    "\n",
    "A = Matrix( [[1,-1,-2],[0,3,-1],[-1,0,-2]])\n",
    "B = Matrix( [[2,2],[0,-2],[-2,2]] )\n",
    "b = Matrix( [[2],[-3],[4]])"
   ]
  },
  {
   "cell_type": "code",
   "execution_count": 4,
   "id": "5ec6a825",
   "metadata": {},
   "outputs": [
    {
     "data": {
      "text/latex": [
       "$\\displaystyle \\left[\\begin{matrix}1 & -1 & -2\\\\0 & 3 & -1\\\\-1 & 0 & -2\\end{matrix}\\right]$"
      ],
      "text/plain": [
       "Matrix([\n",
       "[ 1, -1, -2],\n",
       "[ 0,  3, -1],\n",
       "[-1,  0, -2]])"
      ]
     },
     "execution_count": 4,
     "metadata": {},
     "output_type": "execute_result"
    }
   ],
   "source": [
    "A"
   ]
  },
  {
   "cell_type": "code",
   "execution_count": 5,
   "id": "a41d2049",
   "metadata": {},
   "outputs": [
    {
     "data": {
      "text/latex": [
       "$\\displaystyle \\left[\\begin{matrix}2 & 2\\\\0 & -2\\\\-2 & 2\\end{matrix}\\right]$"
      ],
      "text/plain": [
       "Matrix([\n",
       "[ 2,  2],\n",
       "[ 0, -2],\n",
       "[-2,  2]])"
      ]
     },
     "execution_count": 5,
     "metadata": {},
     "output_type": "execute_result"
    }
   ],
   "source": [
    "B"
   ]
  },
  {
   "cell_type": "code",
   "execution_count": 6,
   "id": "6d7901ed",
   "metadata": {},
   "outputs": [
    {
     "data": {
      "text/latex": [
       "$\\displaystyle \\left[\\begin{matrix}2\\\\-3\\\\4\\end{matrix}\\right]$"
      ],
      "text/plain": [
       "Matrix([\n",
       "[ 2],\n",
       "[-3],\n",
       "[ 4]])"
      ]
     },
     "execution_count": 6,
     "metadata": {},
     "output_type": "execute_result"
    }
   ],
   "source": [
    "b"
   ]
  },
  {
   "cell_type": "markdown",
   "id": "b67ff123",
   "metadata": {},
   "source": [
    "## Operações com matrizes\n",
    "\n",
    "As operações entre matrizes, podem ser feitas usando os símbolos $+$ (soma), $-$ (diferença), $*$ (produto entre matrizes, ou múltiplo escalar), e `**k` (potência). O inverso de uma matriz $A$ pode ser calculado por teclar `A**-1`.\n",
    "\n",
    "Veja os seguintes exemplos e explique porque os sistema dá erros em alguns casos."
   ]
  },
  {
   "cell_type": "code",
   "execution_count": null,
   "id": "27f839a3",
   "metadata": {},
   "outputs": [],
   "source": []
  }
 ],
 "metadata": {
  "kernelspec": {
   "display_name": "Python 3 (ipykernel)",
   "language": "python",
   "name": "python3"
  },
  "language_info": {
   "codemirror_mode": {
    "name": "ipython",
    "version": 3
   },
   "file_extension": ".py",
   "mimetype": "text/x-python",
   "name": "python",
   "nbconvert_exporter": "python",
   "pygments_lexer": "ipython3",
   "version": "3.10.12"
  }
 },
 "nbformat": 4,
 "nbformat_minor": 5
}
