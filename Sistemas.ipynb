{
 "cells": [
  {
   "cell_type": "markdown",
   "id": "a3a5421a",
   "metadata": {},
   "source": [
    "## Três métodos para resolver sistemas lineares\n",
    "\n",
    "\n",
    "Considere o seguinte sistema de equações lineares:\n",
    "\\begin{align*}\n",
    "x + y - z &= -2\\\\\n",
    "x -y +2z &= -1\\\\\n",
    "2x - y - z &= 1\n",
    "\\end{align*}\n",
    "Primeiro, definimos a matriz do sistema e o vetor dos valores no lado\n",
    "direito:"
   ]
  },
  {
   "cell_type": "code",
   "execution_count": 18,
   "id": "11bb2e91",
   "metadata": {},
   "outputs": [],
   "source": [
    "from sympy import Matrix\n",
    "\n",
    "# define the matrix A\n",
    "A = Matrix([[1, 1, -1],\n",
    "             [1, -1, 2],\n",
    "             [2, -1, -1]])\n",
    "\n",
    "# define the vector b\n",
    "b = Matrix([-2, -1, 1])"
   ]
  },
  {
   "cell_type": "markdown",
   "id": "d6be4c01",
   "metadata": {},
   "source": [
    "Vamos resolver o sistema usando os três métodos estudados na disciplina.\n",
    "Começamos pela eliminação de Gauss-Jordan."
   ]
  },
  {
   "cell_type": "code",
   "execution_count": 19,
   "id": "10f8fc7f",
   "metadata": {},
   "outputs": [
    {
     "data": {
      "text/latex": [
       "$\\displaystyle \\left[\\begin{matrix}1 & 1 & -1 & -2\\\\1 & -1 & 2 & -1\\\\2 & -1 & -1 & 1\\end{matrix}\\right]$"
      ],
      "text/plain": [
       "Matrix([\n",
       "[1,  1, -1, -2],\n",
       "[1, -1,  2, -1],\n",
       "[2, -1, -1,  1]])"
      ]
     },
     "execution_count": 19,
     "metadata": {},
     "output_type": "execute_result"
    }
   ],
   "source": [
    "# primeiro, vamos criar uma cópia A0 de A. \n",
    "# Queremos usar A mais tarde\n",
    "A0 = A.copy()\n",
    "\n",
    "# Adicionamos o vetor b à matriz A0 como 4a coluna\n",
    "# observe o uso de \":\"\n",
    "A0 = A0.row_join(b)\n",
    "A0"
   ]
  },
  {
   "cell_type": "code",
   "execution_count": 20,
   "id": "79c36582",
   "metadata": {},
   "outputs": [
    {
     "data": {
      "text/latex": [
       "$\\displaystyle \\left[\\begin{matrix}1 & 0 & 0 & -1\\\\0 & 1 & 0 & -2\\\\0 & 0 & 1 & -1\\end{matrix}\\right]$"
      ],
      "text/plain": [
       "Matrix([\n",
       "[1, 0, 0, -1],\n",
       "[0, 1, 0, -2],\n",
       "[0, 0, 1, -1]])"
      ]
     },
     "execution_count": 20,
     "metadata": {},
     "output_type": "execute_result"
    }
   ],
   "source": [
    "# Usando a função rref (Row Reduced Echelon Form), \n",
    "# computamos a forma escalondada de A0.\n",
    "rref_A0, _ = A0.rref()\n",
    "rref_A0"
   ]
  },
  {
   "cell_type": "markdown",
   "id": "dc9f11bb",
   "metadata": {},
   "source": [
    "Os números que aparecem na última coluna representam a solução do sistema: \n",
    "\n",
    "$x=-1$, $y=-2$, $z=-1$.\n",
    "\n",
    "Ora, vamos usar o método da matriz inversa."
   ]
  },
  {
   "cell_type": "code",
   "execution_count": 21,
   "id": "fc568b80",
   "metadata": {},
   "outputs": [
    {
     "data": {
      "text/latex": [
       "$\\displaystyle \\left[\\begin{matrix}-1\\\\-2\\\\-1\\end{matrix}\\right]$"
      ],
      "text/plain": [
       "Matrix([\n",
       "[-1],\n",
       "[-2],\n",
       "[-1]])"
      ]
     },
     "execution_count": 21,
     "metadata": {},
     "output_type": "execute_result"
    }
   ],
   "source": [
    "# calculate the inverse of matrix A\n",
    "A_inv = A**-1\n",
    "\n",
    "# compute the product A_inv * b\n",
    "solution = A_inv * b\n",
    "solution"
   ]
  },
  {
   "cell_type": "markdown",
   "id": "4cd21f31",
   "metadata": {},
   "source": [
    "Finalmente, resolveremos o problema usando o Regra do Cramer que não foi mencionado na aula, mas alguns de vocês podem ter aprendido no ensino médio."
   ]
  },
  {
   "cell_type": "code",
   "execution_count": 22,
   "id": "6e2c0f82",
   "metadata": {},
   "outputs": [
    {
     "data": {
      "text/plain": [
       "[-1, -2, -1]"
      ]
     },
     "execution_count": 22,
     "metadata": {},
     "output_type": "execute_result"
    }
   ],
   "source": [
    "# calculate the matrix A1 obtained from A by replacing the first column with b\n",
    "A1 = A.copy()\n",
    "A1[:,0] = b\n",
    "\n",
    "# calculate the matrix A2 obtained from A by replacing the second column with b\n",
    "A2 = A.copy()\n",
    "A2[:,1] = b\n",
    "\n",
    "# calculate the matrix A3 obtained from A by replacing the third column with b\n",
    "A3 = A.copy()\n",
    "A3[:,2] = b\n",
    "\n",
    "# calculate the solution by computing the determinants of A1, A2, A3 and dividing by the determinant of A\n",
    "solution = [A1.det()/A.det(), A2.det()/A.det(), A3.det()/A.det()]\n",
    "\n",
    "solution\n"
   ]
  },
  {
   "cell_type": "markdown",
   "id": "ee47240b",
   "metadata": {},
   "source": [
    "## Exercício\n",
    "\n",
    "Agora faça você. \n",
    "\n",
    "Resolvem usando os três métodos no exemplo anterior o seguinte sistema de equações lineares:\n",
    "\\begin{align*}\n",
    "4x_1 + x_2 + 2x_3+ 4 x_4 +2 x_5 + 2 x_6 & = -2\\\\\n",
    "2x_1 + 2x_2 + 2x_3 + 3x_4 + 3x_5 + 4x_6 & = -1\\\\\n",
    "4x_1 + 2x_2 + x_3 + 4x_4 + 2x_6 & = 1\\\\\n",
    "x_1 + 2x_3 + 4x_4 + 3x_5 & = 0\\\\\n",
    "4x_2 + 4x_4 & = 0\\\\\n",
    "2x_1 + 3x_2 + 4x_3 + x_4 + 2x_5 + x_6 & = 2\n",
    "\\end{align*}\n",
    "Para ajudar, coloquei aqui a matriz do sistema e o vetor \\$b\\$ para\n",
    "serem copiados e colados na janela do Scilab.\n",
    "\n",
    "```\n",
    "# matriz A\n",
    "[[4, 1, 2, 4, 2, 2],\n",
    " [2, 2, 2, 3, 3, 4],\n",
    " [4, 2, 1, 4, 0, 2],\n",
    " [1, 0, 2, 4, 3, 0],\n",
    " [0, 4, 0, 4, 0, 0],\n",
    " [2, 3, 4, 1, 2, 1]]\n",
    "\n",
    "# vetor b\n",
    "[-2, -1, 1, 0, 0, 2])\n",
    "```\n"
   ]
  }
 ],
 "metadata": {
  "kernelspec": {
   "display_name": "Python 3 (ipykernel)",
   "language": "python",
   "name": "python3"
  },
  "language_info": {
   "codemirror_mode": {
    "name": "ipython",
    "version": 3
   },
   "file_extension": ".py",
   "mimetype": "text/x-python",
   "name": "python",
   "nbconvert_exporter": "python",
   "pygments_lexer": "ipython3",
   "version": "3.10.12"
  }
 },
 "nbformat": 4,
 "nbformat_minor": 5
}
