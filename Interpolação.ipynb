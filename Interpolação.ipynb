{
 "cells": [
  {
   "cell_type": "markdown",
   "id": "afa52a7b",
   "metadata": {},
   "source": [
    "## O problema da interpolação\n",
    "\n",
    "Sejam $P_1=(1,1)$, $P_2=(-1,1)$, $P_3=(2,1)$ e $P_3=(-2,-11)$ quatro pontos no plano. Queremos achar uma função\n",
    "polinomial\n",
    "$$\n",
    "f(x)=\\alpha_3 x^3+\\alpha_2 x^2+\\alpha_1 x+\\alpha_0\n",
    "$$\n",
    "tal que o grafo de $f(x)$ passe pelos pontos $P_1$, $P_2$,\n",
    "$P\\_3$, $P_4$. Em outras palavras,\n",
    "$$\n",
    "f(1)=1,\\quad f(-1)=1,\\quad f(2)=1,\\quad f(-2)=-11.\n",
    "$$\n",
    "Substituindo em \\$f(x)\\$ obtemos o seguinte sistema de equações\n",
    "lineares.\n",
    "\\begin{align*}\n",
    "\\alpha_0+\\alpha_1+\\alpha_2+\\alpha_3&=1\\\\\n",
    "\\alpha_0-\\alpha_1+\\alpha_2-\\alpha_3&=1\\\\\n",
    "\\alpha_0+2\\alpha_1+4\\alpha_2+8\\alpha_3&=1\\\\\n",
    "\\alpha_0-2\\alpha_1+4\\alpha_2-8\\alpha_3&=-11\n",
    "\\end{align*}\n",
    "Para resolver o problema da interpolação, precisamos resolver o sistema\n",
    "acima.\n"
   ]
  },
  {
   "cell_type": "code",
   "execution_count": 1,
   "id": "a64f1670",
   "metadata": {},
   "outputs": [
    {
     "data": {
      "text/latex": [
       "$\\displaystyle \\left[\\begin{matrix}3\\\\-1\\\\-2\\\\1\\end{matrix}\\right]$"
      ],
      "text/plain": [
       "Matrix([\n",
       "[ 3],\n",
       "[-1],\n",
       "[-2],\n",
       "[ 1]])"
      ]
     },
     "execution_count": 1,
     "metadata": {},
     "output_type": "execute_result"
    }
   ],
   "source": [
    "from sympy import Matrix\n",
    "\n",
    "# defina a matriz do sistema\n",
    "A = Matrix([[1, 1, 1, 1], \n",
    "            [1, -1, 1, -1], \n",
    "            [1, 2, 4, 8], \n",
    "            [1, -2, 4, -8]])\n",
    "\n",
    "# defina o vetor no lado direito\n",
    "b = Matrix([1, 1, 1, -11])\n",
    "\n",
    "# calcule a solução\n",
    "solution = A.inv()*b\n",
    "solution"
   ]
  },
  {
   "cell_type": "markdown",
   "id": "9c12769a",
   "metadata": {},
   "source": [
    "Obtemos da computação que $\\alpha_0=3$, $\\alpha_1=-1$, $\\alpha_2=-2$, $\\alpha_3=1$. Ou seja, o polinômio procurado é\\\n",
    "$$\n",
    "f(x)=x^3-2x^2-x+3\n",
    "$$\n",
    "Para visualizar o polinômio obtido, podemos executar as seguintes linhas."
   ]
  },
  {
   "cell_type": "code",
   "execution_count": 10,
   "id": "a9b831c1",
   "metadata": {},
   "outputs": [
    {
     "data": {
      "text/plain": [
       "[<matplotlib.lines.Line2D at 0x7f36ea7c17b0>]"
      ]
     },
     "execution_count": 10,
     "metadata": {},
     "output_type": "execute_result"
    },
    {
     "data": {
      "image/png": "[encoded data removed]",
      "text/plain": [
       "<Figure size 432x288 with 1 Axes>"
      ]
     },
     "metadata": {
      "needs_background": "light"
     },
     "output_type": "display_data"
    }
   ],
   "source": [
    "from sympy import Poly, symbols, Range, plot\n",
    "from numpy import arange\n",
    "from matplotlib import pyplot as pp\n",
    "\n",
    "# define the polynomial\n",
    "p = Poly([3, -1, -2, 1], symbols('x'))\n",
    "\n",
    "# define the range of values\n",
    "x_values = symbols('x_values')\n",
    "range_values = arange(-3, 3, 0.1)\n",
    "\n",
    "# evaluate the polynomial for each value in the range\n",
    "y_values = [p.subs('x', x_val) for x_val in range_values]\n",
    "\n",
    "# plot the polynomial\n",
    "y_values\n",
    "pp.plot(range_values, y_values)"
   ]
  },
  {
   "cell_type": "markdown",
   "id": "33792cc8",
   "metadata": {},
   "source": [
    "## Exercício\n",
    "\n",
    "Agora faça você mesmo.\n",
    "\n",
    "Ache um polinômio $f(x)$ de grau $5$ tal que\n",
    "$$\n",
    "f(0)=-1,\\ f(1)=-2,\\ f(-1)=0,\\ f(2)=-57,\\ f(-2)=79,\\ f(3)=-436.\n",
    "$$\n",
    "Vizualize o polinômio encontrado.\n"
   ]
  },
  {
   "cell_type": "code",
   "execution_count": null,
   "id": "ed077d9b",
   "metadata": {},
   "outputs": [],
   "source": []
  }
 ],
 "metadata": {
  "kernelspec": {
   "display_name": "Python 3 (ipykernel)",
   "language": "python",
   "name": "python3"
  },
  "language_info": {
   "codemirror_mode": {
    "name": "ipython",
    "version": 3
   },
   "file_extension": ".py",
   "mimetype": "text/x-python",
   "name": "python",
   "nbconvert_exporter": "python",
   "pygments_lexer": "ipython3",
   "version": "3.10.12"
  }
 },
 "nbformat": 4,
 "nbformat_minor": 5
}
